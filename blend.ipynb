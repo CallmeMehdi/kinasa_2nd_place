{
 "cells": [
  {
   "cell_type": "code",
   "execution_count": 1,
   "metadata": {
    "_cell_guid": "b1076dfc-b9ad-4769-8c92-a6c4dae69d19",
    "_uuid": "8f2839f25d086af736a60e9eeb907d3b93b6e0e5"
   },
   "outputs": [],
   "source": [
    "import numpy as np # linear algebra\n",
    "import pandas as pd # data processing, CSV file I/O (e.g. pd.read_csv)\n",
    "from scipy.stats.mstats import gmean"
   ]
  },
  {
   "cell_type": "code",
   "execution_count": 128,
   "metadata": {
    "_cell_guid": "79c7e3d0-c299-4dcb-8224-4455121ee9b0",
    "_uuid": "d629ff2d2480ee46fbb7e2d37f6b5fab8052498a"
   },
   "outputs": [],
   "source": [
    "p=[]\n",
    "subs=[]"
   ]
  },
  {
   "cell_type": "code",
   "execution_count": 96,
   "metadata": {},
   "outputs": [],
   "source": [
    "subs.append(pd.read_csv(\"results/sub_p3_epoch20.csv\"))\n",
    "subs.append(pd.read_csv(\"results/sub_p5_epoch15.csv\"))\n",
    "subs.append(pd.read_csv(\"results/sub_p6_epoch15.csv\"))\n",
    "subs.append(pd.read_csv(\"results/sub_p0_epoch15.csv\"))\n",
    "subs.append(pd.read_csv(\"results/sub_p1_epoch15.csv\"))\n",
    "subs.append(pd.read_csv(\"results/sub_p2_epoch15.csv\"))\n",
    "subs.append(pd.read_csv(\"results/sub_p4_epoch19.csv\"))\n",
    "subs.append(pd.read_csv(\"results/sub_p4_epoch19.csv\"))\n",
    "subs.append(pd.read_csv(\"results/sub_p4_epoch19.csv\"))\n",
    "subs.append(pd.read_csv(\"results/sub_p4_epoch19.csv\"))\n",
    "subs.append(pd.read_csv(\"results/sub_p4_epoch19.csv\"))\n",
    "subs.append(pd.read_csv(\"results/sub_p3_epoch20.csv\"))\n",
    "subs.append(pd.read_csv(\"results/sub_p3_epoch20.csv\"))\n",
    "subs.append(pd.read_csv(\"results/sub_p3_epoch20.csv\"))\n",
    "subs.append(pd.read_csv(\"results/sub_p3_epoch20.csv\"))\n"
   ]
  },
  {
   "cell_type": "code",
   "execution_count": 130,
   "metadata": {},
   "outputs": [],
   "source": [
    "l=len(subs)"
   ]
  },
  {
   "cell_type": "code",
   "execution_count": 132,
   "metadata": {},
   "outputs": [],
   "source": [
    "predictions=[np.array(subs[i].iloc[:,1:])+1e-50 for i in range(l)]"
   ]
  },
  {
   "cell_type": "code",
   "execution_count": 100,
   "metadata": {},
   "outputs": [
    {
     "data": {
      "text/plain": [
       "array([[2.2945480e-09, 2.0032444e-07, 9.9999700e-01, ..., 3.2062634e-12,\n",
       "        1.0414557e-08, 2.8965800e-15],\n",
       "       [1.6330112e-08, 1.2325290e-06, 9.9998760e-01, ..., 2.1822865e-12,\n",
       "        5.2877110e-07, 1.9229457e-13],\n",
       "       [5.3622050e-07, 1.5883395e-05, 9.9994980e-01, ..., 3.8348766e-10,\n",
       "        3.1874760e-06, 1.8838210e-11],\n",
       "       ...,\n",
       "       [2.8286316e-02, 7.9675776e-01, 3.5669240e-02, ..., 2.5552134e-03,\n",
       "        4.0462326e-02, 3.7357245e-02],\n",
       "       [1.1661741e-01, 7.4451430e-01, 1.2584383e-02, ..., 3.3514708e-04,\n",
       "        2.9844220e-02, 5.1193110e-02],\n",
       "       [4.7548767e-02, 6.4521830e-01, 7.6920320e-02, ..., 3.6065911e-03,\n",
       "        2.6898049e-02, 3.2264706e-02]])"
      ]
     },
     "execution_count": 100,
     "metadata": {},
     "output_type": "execute_result"
    }
   ],
   "source": [
    "predictions[0]"
   ]
  },
  {
   "cell_type": "code",
   "execution_count": 133,
   "metadata": {},
   "outputs": [],
   "source": [
    "final_res=gmean(predictions)"
   ]
  },
  {
   "cell_type": "code",
   "execution_count": 134,
   "metadata": {},
   "outputs": [
    {
     "data": {
      "text/plain": [
       "(113618, 8)"
      ]
     },
     "execution_count": 134,
     "metadata": {},
     "output_type": "execute_result"
    }
   ],
   "source": [
    "final_res.shape"
   ]
  },
  {
   "cell_type": "code",
   "execution_count": 135,
   "metadata": {},
   "outputs": [
    {
     "data": {
      "text/plain": [
       "(113618, 9)"
      ]
     },
     "execution_count": 135,
     "metadata": {},
     "output_type": "execute_result"
    }
   ],
   "source": [
    "subs[0].shape"
   ]
  },
  {
   "cell_type": "code",
   "execution_count": 136,
   "metadata": {},
   "outputs": [],
   "source": [
    "final_sub=subs[0].copy()"
   ]
  },
  {
   "cell_type": "code",
   "execution_count": 137,
   "metadata": {},
   "outputs": [],
   "source": [
    "final_sub.iloc[:,1:]=final_res"
   ]
  },
  {
   "cell_type": "code",
   "execution_count": 138,
   "metadata": {},
   "outputs": [
    {
     "data": {
      "text/html": [
       "<div>\n",
       "<style scoped>\n",
       "    .dataframe tbody tr th:only-of-type {\n",
       "        vertical-align: middle;\n",
       "    }\n",
       "\n",
       "    .dataframe tbody tr th {\n",
       "        vertical-align: top;\n",
       "    }\n",
       "\n",
       "    .dataframe thead th {\n",
       "        text-align: right;\n",
       "    }\n",
       "</style>\n",
       "<table border=\"1\" class=\"dataframe\">\n",
       "  <thead>\n",
       "    <tr style=\"text-align: right;\">\n",
       "      <th></th>\n",
       "      <th>ID</th>\n",
       "      <th>target_0</th>\n",
       "      <th>target_1</th>\n",
       "      <th>target_2</th>\n",
       "      <th>target_3</th>\n",
       "      <th>target_4</th>\n",
       "      <th>target_5</th>\n",
       "      <th>target_6</th>\n",
       "      <th>target_7</th>\n",
       "    </tr>\n",
       "  </thead>\n",
       "  <tbody>\n",
       "    <tr>\n",
       "      <th>0</th>\n",
       "      <td>ID_test_0</td>\n",
       "      <td>1.263285e-10</td>\n",
       "      <td>3.674550e-08</td>\n",
       "      <td>0.999993</td>\n",
       "      <td>2.163756e-07</td>\n",
       "      <td>1.853236e-14</td>\n",
       "      <td>2.983781e-12</td>\n",
       "      <td>1.001206e-10</td>\n",
       "      <td>1.474891e-16</td>\n",
       "    </tr>\n",
       "    <tr>\n",
       "      <th>1</th>\n",
       "      <td>ID_test_1</td>\n",
       "      <td>9.278796e-10</td>\n",
       "      <td>2.600954e-07</td>\n",
       "      <td>0.999982</td>\n",
       "      <td>1.179688e-06</td>\n",
       "      <td>9.799441e-14</td>\n",
       "      <td>7.763320e-12</td>\n",
       "      <td>1.963757e-09</td>\n",
       "      <td>1.399245e-14</td>\n",
       "    </tr>\n",
       "    <tr>\n",
       "      <th>2</th>\n",
       "      <td>ID_test_2</td>\n",
       "      <td>4.204517e-09</td>\n",
       "      <td>3.186571e-06</td>\n",
       "      <td>0.999906</td>\n",
       "      <td>3.082007e-06</td>\n",
       "      <td>1.326146e-10</td>\n",
       "      <td>3.184576e-10</td>\n",
       "      <td>2.412414e-08</td>\n",
       "      <td>6.729574e-13</td>\n",
       "    </tr>\n",
       "    <tr>\n",
       "      <th>3</th>\n",
       "      <td>ID_test_3</td>\n",
       "      <td>7.830449e-08</td>\n",
       "      <td>1.450441e-05</td>\n",
       "      <td>0.999192</td>\n",
       "      <td>1.400109e-05</td>\n",
       "      <td>1.664285e-10</td>\n",
       "      <td>3.739194e-09</td>\n",
       "      <td>7.999857e-08</td>\n",
       "      <td>2.441630e-11</td>\n",
       "    </tr>\n",
       "    <tr>\n",
       "      <th>4</th>\n",
       "      <td>ID_test_4</td>\n",
       "      <td>5.215177e-03</td>\n",
       "      <td>7.140687e-01</td>\n",
       "      <td>0.015537</td>\n",
       "      <td>2.717480e-02</td>\n",
       "      <td>3.890708e-05</td>\n",
       "      <td>6.374092e-04</td>\n",
       "      <td>6.567215e-03</td>\n",
       "      <td>4.904349e-03</td>\n",
       "    </tr>\n",
       "  </tbody>\n",
       "</table>\n",
       "</div>"
      ],
      "text/plain": [
       "          ID      target_0      target_1  target_2      target_3  \\\n",
       "0  ID_test_0  1.263285e-10  3.674550e-08  0.999993  2.163756e-07   \n",
       "1  ID_test_1  9.278796e-10  2.600954e-07  0.999982  1.179688e-06   \n",
       "2  ID_test_2  4.204517e-09  3.186571e-06  0.999906  3.082007e-06   \n",
       "3  ID_test_3  7.830449e-08  1.450441e-05  0.999192  1.400109e-05   \n",
       "4  ID_test_4  5.215177e-03  7.140687e-01  0.015537  2.717480e-02   \n",
       "\n",
       "       target_4      target_5      target_6      target_7  \n",
       "0  1.853236e-14  2.983781e-12  1.001206e-10  1.474891e-16  \n",
       "1  9.799441e-14  7.763320e-12  1.963757e-09  1.399245e-14  \n",
       "2  1.326146e-10  3.184576e-10  2.412414e-08  6.729574e-13  \n",
       "3  1.664285e-10  3.739194e-09  7.999857e-08  2.441630e-11  \n",
       "4  3.890708e-05  6.374092e-04  6.567215e-03  4.904349e-03  "
      ]
     },
     "execution_count": 138,
     "metadata": {},
     "output_type": "execute_result"
    }
   ],
   "source": [
    "final_sub.head()"
   ]
  },
  {
   "cell_type": "code",
   "execution_count": 140,
   "metadata": {},
   "outputs": [],
   "source": [
    "final_sub.to_csv(\"final_submission.csv\",index=False)"
   ]
  }
 ],
 "metadata": {
  "kernelspec": {
   "display_name": "Python 3",
   "language": "python",
   "name": "python3"
  },
  "language_info": {
   "codemirror_mode": {
    "name": "ipython",
    "version": 3
   },
   "file_extension": ".py",
   "mimetype": "text/x-python",
   "name": "python",
   "nbconvert_exporter": "python",
   "pygments_lexer": "ipython3",
   "version": "3.8.3"
  }
 },
 "nbformat": 4,
 "nbformat_minor": 4
}
